{
 "cells": [
  {
   "cell_type": "markdown",
   "id": "a87ffa17",
   "metadata": {},
   "source": [
    "Optimizing urban road traffic using AI - assignment\n",
    "\n",
    "Termin: 22 czerwca 2025 23:59\n",
    "Instrukcje\n",
    "Download the dataset from https://drive.google.com/file/d/1m5xgNXp3vv5zzH4JHfE9983cLiSR3IPp/view\n",
    "\n",
    "In the file, you have 105336 rows. In each row, the first 21 elements are offsets at 21 intersections in Warsaw (a part of the Ochota district), while the last element is the total waiting time at red lights for all cars during a simulation of 10 minutes of realistic traffic (it was calculated using the Traffic Simulation Framework tool). The offsets are times (in seconds) from the start of the simulation to the first transition (of a selected signal state at the given intersection) from the red signal state to the green signal state. The values of the offsets are integers from the set {0,1,2,...,119}. The total wait times at red signals are also integers."
   ]
  },
  {
   "cell_type": "markdown",
   "id": "ee27aabd",
   "metadata": {},
   "source": [
    "Your task is to implement a pipeline for:\n",
    "\n",
    "1) Reading the data.\n",
    "\n",
    "2) Splitting the dataset into a training set (first 85336 rows) and a test set (last 20000 rows).\n",
    "\n",
    "3) Preprocessing the data (e.g., you can normalize the inputs and outputs).\n",
    "\n",
    "4) Training at least 1 machine learning model (e.g., a feed-forward neural network, XGBoost, or LightGBM) to predict the total wait time at red signals based on the 21 offsets.\n",
    "\n",
    "5) Calculating the MAPE (Mean Absolute Percentage Error) of the trained model(s) on the test set and presenting the results.\n",
    "\n",
    "6) Optimizing the hyperparameters of your model, if needed.\n",
    "\n",
    "7) Presenting the results, e.g., you can visualize how the MAPE or loss function changes in iterations of training.\n",
    "\n",
    "\n",
    "\n",
    "It should be possible to get a MAPE below 2%, but it may take some time and may require optimizing the parameters. \n",
    "\n",
    "The code should be prepared as a Jupyter notebook. If you need a GPU, you can use Google Colab.\n",
    "\n",
    "\n",
    "\n",
    "Questions: send an email to pawel.gora@qaif.org\n",
    "\n",
    "Submission: send the Jupyter notebook file with the code to pawel.gora@qaif.org by 22.06.2025."
   ]
  },
  {
   "cell_type": "code",
   "execution_count": 1,
   "id": "f7983dc8",
   "metadata": {},
   "outputs": [
    {
     "name": "stdout",
     "output_type": "stream",
     "text": [
      "Requirement already satisfied: pandas in c:\\users\\wojciech\\anaconda3\\lib\\site-packages (2.0.3)\n",
      "Requirement already satisfied: scikit-learn in c:\\users\\wojciech\\anaconda3\\lib\\site-packages (0.24.1)\n",
      "Requirement already satisfied: xgboost in c:\\users\\wojciech\\anaconda3\\lib\\site-packages (2.1.3)\n",
      "Requirement already satisfied: numpy in c:\\users\\wojciech\\anaconda3\\lib\\site-packages (1.22.0)\n",
      "Requirement already satisfied: pytz>=2020.1 in c:\\users\\wojciech\\anaconda3\\lib\\site-packages (from pandas) (2021.1)\n",
      "Requirement already satisfied: python-dateutil>=2.8.2 in c:\\users\\wojciech\\anaconda3\\lib\\site-packages (from pandas) (2.8.2)\n",
      "Requirement already satisfied: tzdata>=2022.1 in c:\\users\\wojciech\\anaconda3\\lib\\site-packages (from pandas) (2023.3)\n",
      "Requirement already satisfied: six>=1.5 in c:\\users\\wojciech\\anaconda3\\lib\\site-packages (from python-dateutil>=2.8.2->pandas) (1.15.0)\n",
      "Requirement already satisfied: threadpoolctl>=2.0.0 in c:\\users\\wojciech\\anaconda3\\lib\\site-packages (from scikit-learn) (2.1.0)\n",
      "Requirement already satisfied: scipy>=0.19.1 in c:\\users\\wojciech\\anaconda3\\lib\\site-packages (from scikit-learn) (1.6.2)\n",
      "Requirement already satisfied: joblib>=0.11 in c:\\users\\wojciech\\anaconda3\\lib\\site-packages (from scikit-learn) (1.0.1)\n"
     ]
    }
   ],
   "source": [
    "!pip install pandas scikit-learn xgboost numpy"
   ]
  },
  {
   "cell_type": "markdown",
   "id": "fd7b2005",
   "metadata": {},
   "source": [
    "1) Reading the data."
   ]
  },
  {
   "cell_type": "code",
   "execution_count": 2,
   "id": "b7c5568a",
   "metadata": {},
   "outputs": [],
   "source": [
    "# import pandas as pd\n",
    "# df = pd.read_csv(\"ochota100k.csv\")"
   ]
  },
  {
   "cell_type": "code",
   "execution_count": 1,
   "id": "35b44905",
   "metadata": {},
   "outputs": [
    {
     "name": "stdout",
     "output_type": "stream",
     "text": [
      "    81  14   58  108  83  60   82  61   64   94  ...   28   87   73   69   25  \\\n",
      "0   81  92   16   44  95  64  110  98   95  105  ...   42    5   40  105  118   \n",
      "1   75  20   66  104  20  65   80  97    2   81  ...  119  115  118   64   68   \n",
      "2   30  42   65  108  67  81   85  32   83   48  ...  107   79   44   90    6   \n",
      "3  117  20   52   40  25  36   87  78   99   70  ...   92   21   34  102   37   \n",
      "4   47  63  110   39  39  56  116  81  111   46  ...   63   98    3  101   54   \n",
      "\n",
      "    7   77   95    5  49082  \n",
      "0  48   40   62   45  51223  \n",
      "1  46   45   43   18  51461  \n",
      "2  25   46  102   62  45119  \n",
      "3  46   11    9   66  50660  \n",
      "4  14  109   79  111  49601  \n",
      "\n",
      "[5 rows x 22 columns]\n"
     ]
    }
   ],
   "source": [
    "import pandas as pd\n",
    "\n",
    "file_id = \"1m5xgNXp3vv5zzH4JHfE9983cLiSR3IPp\"\n",
    "url = f\"https://drive.google.com/uc?export=download&id={file_id}\"\n",
    "df = pd.read_csv(url)\n",
    "print(df.head())"
   ]
  },
  {
   "cell_type": "code",
   "execution_count": 2,
   "id": "b1152963",
   "metadata": {},
   "outputs": [
    {
     "data": {
      "text/html": [
       "<div>\n",
       "<style scoped>\n",
       "    .dataframe tbody tr th:only-of-type {\n",
       "        vertical-align: middle;\n",
       "    }\n",
       "\n",
       "    .dataframe tbody tr th {\n",
       "        vertical-align: top;\n",
       "    }\n",
       "\n",
       "    .dataframe thead th {\n",
       "        text-align: right;\n",
       "    }\n",
       "</style>\n",
       "<table border=\"1\" class=\"dataframe\">\n",
       "  <thead>\n",
       "    <tr style=\"text-align: right;\">\n",
       "      <th></th>\n",
       "      <th>1</th>\n",
       "      <th>2</th>\n",
       "      <th>3</th>\n",
       "      <th>4</th>\n",
       "      <th>5</th>\n",
       "      <th>6</th>\n",
       "      <th>7</th>\n",
       "      <th>8</th>\n",
       "      <th>9</th>\n",
       "      <th>10</th>\n",
       "      <th>...</th>\n",
       "      <th>13</th>\n",
       "      <th>14</th>\n",
       "      <th>15</th>\n",
       "      <th>16</th>\n",
       "      <th>17</th>\n",
       "      <th>18</th>\n",
       "      <th>19</th>\n",
       "      <th>20</th>\n",
       "      <th>21</th>\n",
       "      <th>time</th>\n",
       "    </tr>\n",
       "  </thead>\n",
       "  <tbody>\n",
       "    <tr>\n",
       "      <th>0</th>\n",
       "      <td>81</td>\n",
       "      <td>92</td>\n",
       "      <td>16</td>\n",
       "      <td>44</td>\n",
       "      <td>95</td>\n",
       "      <td>64</td>\n",
       "      <td>110</td>\n",
       "      <td>98</td>\n",
       "      <td>95</td>\n",
       "      <td>105</td>\n",
       "      <td>...</td>\n",
       "      <td>42</td>\n",
       "      <td>5</td>\n",
       "      <td>40</td>\n",
       "      <td>105</td>\n",
       "      <td>118</td>\n",
       "      <td>48</td>\n",
       "      <td>40</td>\n",
       "      <td>62</td>\n",
       "      <td>45</td>\n",
       "      <td>51223</td>\n",
       "    </tr>\n",
       "    <tr>\n",
       "      <th>1</th>\n",
       "      <td>75</td>\n",
       "      <td>20</td>\n",
       "      <td>66</td>\n",
       "      <td>104</td>\n",
       "      <td>20</td>\n",
       "      <td>65</td>\n",
       "      <td>80</td>\n",
       "      <td>97</td>\n",
       "      <td>2</td>\n",
       "      <td>81</td>\n",
       "      <td>...</td>\n",
       "      <td>119</td>\n",
       "      <td>115</td>\n",
       "      <td>118</td>\n",
       "      <td>64</td>\n",
       "      <td>68</td>\n",
       "      <td>46</td>\n",
       "      <td>45</td>\n",
       "      <td>43</td>\n",
       "      <td>18</td>\n",
       "      <td>51461</td>\n",
       "    </tr>\n",
       "    <tr>\n",
       "      <th>2</th>\n",
       "      <td>30</td>\n",
       "      <td>42</td>\n",
       "      <td>65</td>\n",
       "      <td>108</td>\n",
       "      <td>67</td>\n",
       "      <td>81</td>\n",
       "      <td>85</td>\n",
       "      <td>32</td>\n",
       "      <td>83</td>\n",
       "      <td>48</td>\n",
       "      <td>...</td>\n",
       "      <td>107</td>\n",
       "      <td>79</td>\n",
       "      <td>44</td>\n",
       "      <td>90</td>\n",
       "      <td>6</td>\n",
       "      <td>25</td>\n",
       "      <td>46</td>\n",
       "      <td>102</td>\n",
       "      <td>62</td>\n",
       "      <td>45119</td>\n",
       "    </tr>\n",
       "    <tr>\n",
       "      <th>3</th>\n",
       "      <td>117</td>\n",
       "      <td>20</td>\n",
       "      <td>52</td>\n",
       "      <td>40</td>\n",
       "      <td>25</td>\n",
       "      <td>36</td>\n",
       "      <td>87</td>\n",
       "      <td>78</td>\n",
       "      <td>99</td>\n",
       "      <td>70</td>\n",
       "      <td>...</td>\n",
       "      <td>92</td>\n",
       "      <td>21</td>\n",
       "      <td>34</td>\n",
       "      <td>102</td>\n",
       "      <td>37</td>\n",
       "      <td>46</td>\n",
       "      <td>11</td>\n",
       "      <td>9</td>\n",
       "      <td>66</td>\n",
       "      <td>50660</td>\n",
       "    </tr>\n",
       "    <tr>\n",
       "      <th>4</th>\n",
       "      <td>47</td>\n",
       "      <td>63</td>\n",
       "      <td>110</td>\n",
       "      <td>39</td>\n",
       "      <td>39</td>\n",
       "      <td>56</td>\n",
       "      <td>116</td>\n",
       "      <td>81</td>\n",
       "      <td>111</td>\n",
       "      <td>46</td>\n",
       "      <td>...</td>\n",
       "      <td>63</td>\n",
       "      <td>98</td>\n",
       "      <td>3</td>\n",
       "      <td>101</td>\n",
       "      <td>54</td>\n",
       "      <td>14</td>\n",
       "      <td>109</td>\n",
       "      <td>79</td>\n",
       "      <td>111</td>\n",
       "      <td>49601</td>\n",
       "    </tr>\n",
       "  </tbody>\n",
       "</table>\n",
       "<p>5 rows × 22 columns</p>\n",
       "</div>"
      ],
      "text/plain": [
       "     1   2    3    4   5   6    7   8    9   10  ...   13   14   15   16   17  \\\n",
       "0   81  92   16   44  95  64  110  98   95  105  ...   42    5   40  105  118   \n",
       "1   75  20   66  104  20  65   80  97    2   81  ...  119  115  118   64   68   \n",
       "2   30  42   65  108  67  81   85  32   83   48  ...  107   79   44   90    6   \n",
       "3  117  20   52   40  25  36   87  78   99   70  ...   92   21   34  102   37   \n",
       "4   47  63  110   39  39  56  116  81  111   46  ...   63   98    3  101   54   \n",
       "\n",
       "   18   19   20   21   time  \n",
       "0  48   40   62   45  51223  \n",
       "1  46   45   43   18  51461  \n",
       "2  25   46  102   62  45119  \n",
       "3  46   11    9   66  50660  \n",
       "4  14  109   79  111  49601  \n",
       "\n",
       "[5 rows x 22 columns]"
      ]
     },
     "execution_count": 2,
     "metadata": {},
     "output_type": "execute_result"
    }
   ],
   "source": [
    "columns_names = [\"1\", \"2\", \"3\", \"4\", \"5\", \"6\", \"7\", \"8\", \"9\", \"10\", \"11\", \"12\", \"13\", \"14\", \"15\", \"16\", \"17\", \"18\", \"19\", \"20\", \"21\", 'time']\n",
    "df.columns = columns_names\n",
    "df.head()"
   ]
  },
  {
   "cell_type": "markdown",
   "id": "20885214",
   "metadata": {},
   "source": [
    "2) Splitting the dataset into a training set (first 85336 rows) and a test set (last 20000 rows)."
   ]
  },
  {
   "cell_type": "code",
   "execution_count": 3,
   "id": "18dbfc11",
   "metadata": {},
   "outputs": [],
   "source": [
    "train_df = df.iloc[:85336]\n",
    "test_df = df.iloc[-20000:]"
   ]
  },
  {
   "cell_type": "markdown",
   "id": "6a2fce1d",
   "metadata": {},
   "source": [
    "3. Preprocessing the data (e.g., you can normalize the inputs and outputs)."
   ]
  },
  {
   "cell_type": "code",
   "execution_count": 4,
   "id": "48fb524f",
   "metadata": {},
   "outputs": [],
   "source": [
    "X_train=train_df.drop(['time'], axis=1)\n",
    "y_train=train_df['time']\n",
    "X_test=test_df.drop(['time'], axis=1)\n",
    "y_test=test_df['time']"
   ]
  },
  {
   "cell_type": "code",
   "execution_count": 5,
   "id": "21ef5012",
   "metadata": {},
   "outputs": [],
   "source": [
    "from sklearn.preprocessing import MinMaxScaler\n",
    "import numpy as np\n",
    "\n",
    "scaler_X = MinMaxScaler()\n",
    "scaler_y = MinMaxScaler()\n",
    "\n",
    "X_train_scaled = scaler_X.fit_transform(X_train)\n",
    "X_test_scaled = scaler_X.transform(X_test)\n",
    "\n",
    "y_train_scaled = scaler_y.fit_transform(y_train.values.reshape(-1, 1))\n",
    "y_test_scaled = scaler_y.transform(y_test.values.reshape(-1, 1))"
   ]
  },
  {
   "cell_type": "markdown",
   "id": "4d14aeb8",
   "metadata": {},
   "source": [
    "4) Training at least 1 machine learning model (e.g., a feed-forward neural network, XGBoost, or LightGBM) to predict the total wait time at red signals based on the 21 offsets."
   ]
  },
  {
   "cell_type": "code",
   "execution_count": 6,
   "id": "272624b2",
   "metadata": {},
   "outputs": [
    {
     "data": {
      "text/plain": [
       "XGBRegressor(base_score=None, booster=None, callbacks=None,\n",
       "             colsample_bylevel=None, colsample_bynode=None,\n",
       "             colsample_bytree=None, device=None, early_stopping_rounds=None,\n",
       "             enable_categorical=False, eval_metric=None, feature_types=None,\n",
       "             gamma=None, grow_policy=None, importance_type=None,\n",
       "             interaction_constraints=None, learning_rate=0.1, max_bin=None,\n",
       "             max_cat_threshold=None, max_cat_to_onehot=None,\n",
       "             max_delta_step=None, max_depth=5, max_leaves=None,\n",
       "             min_child_weight=None, missing=nan, monotone_constraints=None,\n",
       "             multi_strategy=None, n_estimators=100, n_jobs=None,\n",
       "             num_parallel_tree=None, random_state=42, ...)"
      ]
     },
     "execution_count": 6,
     "metadata": {},
     "output_type": "execute_result"
    }
   ],
   "source": [
    "import xgboost\n",
    "from xgboost import XGBRegressor\n",
    "\n",
    "model = XGBRegressor(n_estimators=100, max_depth=5, learning_rate=0.1, random_state=42)\n",
    "model.fit(X_train, y_train)"
   ]
  },
  {
   "cell_type": "code",
   "execution_count": 7,
   "id": "f4e27a00",
   "metadata": {},
   "outputs": [],
   "source": [
    "y_pred = model.predict(X_test)"
   ]
  },
  {
   "cell_type": "code",
   "execution_count": 8,
   "id": "84724441",
   "metadata": {},
   "outputs": [
    {
     "data": {
      "text/plain": [
       "True"
      ]
     },
     "execution_count": 8,
     "metadata": {},
     "output_type": "execute_result"
    }
   ],
   "source": [
    "len(y_test) == len(y_pred)"
   ]
  },
  {
   "cell_type": "code",
   "execution_count": 9,
   "id": "e71f5003",
   "metadata": {},
   "outputs": [
    {
     "name": "stdout",
     "output_type": "stream",
     "text": [
      "RMSE: 5015446.94\n",
      "MAE: 1795.06\n",
      "R² score: 0.52\n"
     ]
    }
   ],
   "source": [
    "from sklearn.metrics import mean_squared_error, mean_absolute_error, r2_score\n",
    "\n",
    "rmse = mean_squared_error(y_test, y_pred)\n",
    "mae = mean_absolute_error(y_test, y_pred)\n",
    "r2 = r2_score(y_test, y_pred)\n",
    "\n",
    "print(f\"RMSE: {rmse:.2f}\")\n",
    "print(f\"MAE: {mae:.2f}\")\n",
    "print(f\"R² score: {r2:.2f}\")"
   ]
  },
  {
   "cell_type": "markdown",
   "id": "d821cb0d",
   "metadata": {},
   "source": [
    "5) Calculating the MAPE (Mean Absolute Percentage Error) of the trained model(s) on the test set and presenting the results."
   ]
  },
  {
   "cell_type": "code",
   "execution_count": 10,
   "id": "820327e0",
   "metadata": {},
   "outputs": [
    {
     "name": "stdout",
     "output_type": "stream",
     "text": [
      "MAPE: 3.68%\n"
     ]
    }
   ],
   "source": [
    "from sklearn.metrics import mean_absolute_percentage_error\n",
    "\n",
    "mape = mean_absolute_percentage_error(y_test, y_pred)\n",
    "print(f\"MAPE: {mape * 100:.2f}%\")"
   ]
  },
  {
   "cell_type": "code",
   "execution_count": 11,
   "id": "951f7fed",
   "metadata": {},
   "outputs": [
    {
     "name": "stdout",
     "output_type": "stream",
     "text": [
      "MAE: 1795.061112109375\n",
      "RMSE: 5015446.935536348\n",
      "R²: 0.520799800765399\n",
      "MAPE: 3.6777711858228432 %\n"
     ]
    }
   ],
   "source": [
    "from sklearn.metrics import mean_absolute_error, r2_score, mean_squared_error, mean_absolute_percentage_error\n",
    "\n",
    "y_pred = model.predict(X_test)\n",
    "\n",
    "print(\"MAE:\", mean_absolute_error(y_test, y_pred))\n",
    "print(\"RMSE:\", mean_squared_error(y_test, y_pred))\n",
    "print(\"R²:\", r2_score(y_test, y_pred))\n",
    "print(\"MAPE:\", mean_absolute_percentage_error(y_test, y_pred) * 100, \"%\")"
   ]
  },
  {
   "cell_type": "markdown",
   "id": "1d8be26f",
   "metadata": {},
   "source": [
    "6) Optimizing the hyperparameters of your model, if needed."
   ]
  },
  {
   "cell_type": "code",
   "execution_count": 12,
   "id": "33fa896b",
   "metadata": {},
   "outputs": [
    {
     "name": "stdout",
     "output_type": "stream",
     "text": [
      "Fitting 3 folds for each of 18 candidates, totalling 54 fits\n",
      "Best params (XGB): {'learning_rate': 0.2, 'max_depth': 7, 'n_estimators': 200}\n"
     ]
    }
   ],
   "source": [
    "from sklearn.model_selection import GridSearchCV\n",
    "from xgboost import XGBRegressor\n",
    "\n",
    "param_grid = {\n",
    "    'max_depth': [3, 5, 7],\n",
    "    'n_estimators': [100, 200],\n",
    "    'learning_rate': [0.01, 0.1, 0.2],\n",
    "}\n",
    "\n",
    "grid_search = GridSearchCV(\n",
    "    estimator=XGBRegressor(random_state=42),\n",
    "    param_grid=param_grid,\n",
    "    scoring='neg_mean_absolute_percentage_error',\n",
    "    cv=3,\n",
    "    verbose=1\n",
    ")\n",
    "\n",
    "grid_search.fit(X_train, y_train)\n",
    "print(\"Best params (XGB):\", grid_search.best_params_)"
   ]
  },
  {
   "cell_type": "code",
   "execution_count": 13,
   "id": "a3c8e926",
   "metadata": {},
   "outputs": [
    {
     "name": "stdout",
     "output_type": "stream",
     "text": [
      "[0]\ttrain-mape:0.05250\tvalid-mape:0.05246\n",
      "[10]\ttrain-mape:0.04506\tvalid-mape:0.04579\n",
      "[20]\ttrain-mape:0.03907\tvalid-mape:0.04049\n",
      "[30]\ttrain-mape:0.03340\tvalid-mape:0.03542\n",
      "[40]\ttrain-mape:0.03025\tvalid-mape:0.03289\n",
      "[50]\ttrain-mape:0.02701\tvalid-mape:0.03008\n",
      "[60]\ttrain-mape:0.02519\tvalid-mape:0.02862\n",
      "[70]\ttrain-mape:0.02352\tvalid-mape:0.02729\n",
      "[80]\ttrain-mape:0.02176\tvalid-mape:0.02579\n",
      "[90]\ttrain-mape:0.02047\tvalid-mape:0.02477\n",
      "[100]\ttrain-mape:0.01947\tvalid-mape:0.02405\n",
      "[110]\ttrain-mape:0.01871\tvalid-mape:0.02354\n",
      "[120]\ttrain-mape:0.01791\tvalid-mape:0.02295\n",
      "[130]\ttrain-mape:0.01717\tvalid-mape:0.02239\n",
      "[140]\ttrain-mape:0.01676\tvalid-mape:0.02220\n",
      "[150]\ttrain-mape:0.01628\tvalid-mape:0.02193\n",
      "[160]\ttrain-mape:0.01585\tvalid-mape:0.02172\n",
      "[170]\ttrain-mape:0.01553\tvalid-mape:0.02161\n",
      "[180]\ttrain-mape:0.01519\tvalid-mape:0.02144\n",
      "[190]\ttrain-mape:0.01488\tvalid-mape:0.02134\n",
      "[199]\ttrain-mape:0.01447\tvalid-mape:0.02107\n"
     ]
    }
   ],
   "source": [
    "import xgboost as xgb\n",
    "import matplotlib.pyplot as plt\n",
    "from sklearn.metrics import mean_absolute_percentage_error\n",
    "\n",
    "\n",
    "dtrain = xgb.DMatrix(X_train, label=y_train)\n",
    "dvalid = xgb.DMatrix(X_test, label=y_test)\n",
    "\n",
    "params = {\n",
    "    'objective': 'reg:squarederror',\n",
    "    'eval_metric': 'mape',  # lub 'mape', ale tylko w nowszych wersjach\n",
    "    'learning_rate': 0.2,\n",
    "    'max_depth': 7,\n",
    "    'subsample': 0.9,\n",
    "    'colsample_bytree': 0.8,\n",
    "    'seed': 42\n",
    "}\n",
    "\n",
    "evals = [(dtrain, 'train'), (dvalid, 'valid')]\n",
    "evals_result = {}\n",
    "\n",
    "model = xgb.train(\n",
    "    params,\n",
    "    dtrain,\n",
    "    num_boost_round=200,\n",
    "    evals=evals,\n",
    "    early_stopping_rounds=20,\n",
    "    evals_result=evals_result,\n",
    "    verbose_eval=10\n",
    ")"
   ]
  },
  {
   "cell_type": "code",
   "execution_count": 14,
   "id": "c191e350",
   "metadata": {},
   "outputs": [
    {
     "data": {
      "image/png": "[encoded data removed]",
      "text/plain": [
       "<Figure size 1000x600 with 1 Axes>"
      ]
     },
     "metadata": {},
     "output_type": "display_data"
    }
   ],
   "source": [
    "train_mae = evals_result['train']['mape']\n",
    "valid_mae = evals_result['valid']['mape']\n",
    "\n",
    "plt.figure(figsize=(10, 6))\n",
    "plt.plot(train_mae, label='Train MAPE')\n",
    "plt.plot(valid_mae, label='Validation MAPE')\n",
    "plt.xlabel('Boosting Round')\n",
    "plt.ylabel('MAPE')\n",
    "plt.title('XGBoost Learning Curve')\n",
    "plt.legend()\n",
    "plt.grid(True)\n",
    "plt.tight_layout()\n",
    "plt.show()"
   ]
  },
  {
   "cell_type": "code",
   "execution_count": 15,
   "id": "d3228d18",
   "metadata": {},
   "outputs": [
    {
     "name": "stdout",
     "output_type": "stream",
     "text": [
      "MAPE: 2.11%\n"
     ]
    }
   ],
   "source": [
    "y_pred = model.predict(dvalid)\n",
    "mape = mean_absolute_percentage_error(y_test, y_pred)\n",
    "print(f\"MAPE: {mape * 100:.2f}%\")"
   ]
  },
  {
   "cell_type": "code",
   "execution_count": 20,
   "id": "9a47a17c",
   "metadata": {},
   "outputs": [
    {
     "name": "stdout",
     "output_type": "stream",
     "text": [
      "Fitting 3 folds for each of 1944 candidates, totalling 5832 fits\n",
      "Best parameters: {'colsample_bytree': 0.8, 'gamma': 0.1, 'learning_rate': 0.2, 'max_depth': 6, 'n_estimators': 400, 'reg_alpha': 0.01, 'reg_lambda': 1, 'subsample': 1.0}\n",
      "Best MAPE: 0.02049377631548012\n"
     ]
    }
   ],
   "source": [
    "from sklearn.model_selection import GridSearchCV\n",
    "from xgboost import XGBRegressor\n",
    "from sklearn.metrics import make_scorer, mean_absolute_percentage_error\n",
    "import numpy as np\n",
    "\n",
    "xgb_model = XGBRegressor(objective='reg:squarederror', random_state=42)\n",
    "\n",
    "param_grid = {\n",
    "    'max_depth': [6, 7, 8],\n",
    "    'learning_rate': [0.07, 0.15, 0.2],\n",
    "    'subsample': [0.6, 0.8, 1.0],\n",
    "    'colsample_bytree': [0.6, 0.8, 1.0],\n",
    "    'n_estimators': [200, 300, 400],\n",
    "    'reg_alpha': [0.02,.01],\n",
    "    'reg_lambda': [1, 2],\n",
    "    'gamma': [0.1, 0.3]\n",
    "}\n",
    "\n",
    "def mape_scorer(y_true, y_pred):\n",
    "    return mean_absolute_percentage_error(y_true, y_pred)\n",
    "\n",
    "scorer = make_scorer(mape_scorer, greater_is_better=False)\n",
    "\n",
    "grid_search = GridSearchCV(\n",
    "    estimator=xgb_model,\n",
    "    param_grid=param_grid,\n",
    "    scoring=scorer,\n",
    "    cv=3,\n",
    "    verbose=2,\n",
    "    n_jobs=-1\n",
    ")\n",
    "\n",
    "grid_search.fit(X_train, y_train)\n",
    "\n",
    "print(\"Best parameters:\", grid_search.best_params_)\n",
    "print(\"Best MAPE:\", -grid_search.best_score_)\n"
   ]
  },
  {
   "cell_type": "code",
   "execution_count": 24,
   "id": "e180a656-0686-4180-9adf-e59faaaed44f",
   "metadata": {},
   "outputs": [
    {
     "name": "stdout",
     "output_type": "stream",
     "text": [
      "MAPE: 2.05%\n"
     ]
    }
   ],
   "source": [
    "print(f\"MAPE: {-grid_search.best_score_* 100:.2f}%\")"
   ]
  },
  {
   "cell_type": "markdown",
   "id": "b708282a",
   "metadata": {},
   "source": [
    "7) Presenting the results, e.g., you can visualize how the MAPE or loss function changes in iterations of training."
   ]
  },
  {
   "cell_type": "code",
   "execution_count": 26,
   "id": "9b81bc14",
   "metadata": {},
   "outputs": [
    {
     "data": {
      "image/png": "[encoded data removed]",
      "text/plain": [
       "<Figure size 1000x600 with 1 Axes>"
      ]
     },
     "metadata": {},
     "output_type": "display_data"
    }
   ],
   "source": [
    "import matplotlib.pyplot as plt\n",
    "\n",
    "train_mape = evals_result['train']['mape']\n",
    "valid_mape = evals_result['valid']['mape']\n",
    "\n",
    "plt.figure(figsize=(10, 6))\n",
    "plt.plot(train_mape, label='Train MAPE')\n",
    "plt.plot(valid_mape, label='Validation MAPE')\n",
    "plt.xlabel(\"Boosting Round\")\n",
    "plt.ylabel(\"MAPE\")\n",
    "plt.title(\"MAPE per Boosting Round\")\n",
    "plt.legend()\n",
    "plt.grid(True)\n",
    "plt.show()\n"
   ]
  },
  {
   "cell_type": "markdown",
   "id": "81f096ab",
   "metadata": {},
   "source": [
    "**Wnioski:**\n",
    "Przy zastosowanym modelu XGBoost nie udało się zejść poniżej MAPE 2%. Po optymalizacji hyperparametrów w najlepszej próbie udało się osiągnąć 2,05% dla danych testowych."
   ]
  }
 ],
 "metadata": {
  "kernelspec": {
   "display_name": "Python 3 (ipykernel)",
   "language": "python",
   "name": "python3"
  },
  "language_info": {
   "codemirror_mode": {
    "name": "ipython",
    "version": 3
   },
   "file_extension": ".py",
   "mimetype": "text/x-python",
   "name": "python",
   "nbconvert_exporter": "python",
   "pygments_lexer": "ipython3",
   "version": "3.8.8"
  }
 },
 "nbformat": 4,
 "nbformat_minor": 5
}
